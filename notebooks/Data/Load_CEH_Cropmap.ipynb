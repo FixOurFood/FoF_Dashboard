{
 "cells": [
  {
   "cell_type": "markdown",
   "id": "e8915930",
   "metadata": {},
   "source": [
    "# Read in the CEH Cropmap"
   ]
  },
  {
   "cell_type": "code",
   "execution_count": 1,
   "id": "314a520d",
   "metadata": {},
   "outputs": [],
   "source": [
    "# First you need to download the data - under licence \n",
    "# Go to xxxxxxx"
   ]
  },
  {
   "cell_type": "code",
   "execution_count": 2,
   "id": "c19cc65f",
   "metadata": {},
   "outputs": [],
   "source": [
    "# Just do Yorkshire to test things - smaller filesize\n",
    "# Need to work out how to install this stuff on windows!!!\n",
    "# import fiona \n",
    "# import geopandas as gpd"
   ]
  },
  {
   "cell_type": "code",
   "execution_count": 3,
   "id": "14a42480",
   "metadata": {},
   "outputs": [],
   "source": [
    "# This is my old matlab code.... \n",
    "# dl_dir = 'C:\\Users\\Sarah Bridle\\Dropbox\\scratch\\food\\Crop map CEH\\dl_20211203\\York_to_Leeds\\';\n",
    "# cropmap.lccm_fulltable = readgeotable([dl_dir,'lccm-2020_4315081\\lccm-2020_4315081.gdb']);\n",
    "# size(cropmap.lccm_fulltable)"
   ]
  },
  {
   "cell_type": "code",
   "execution_count": null,
   "id": "e09172b5",
   "metadata": {},
   "outputs": [],
   "source": []
  }
 ],
 "metadata": {
  "kernelspec": {
   "display_name": "Python 3",
   "language": "python",
   "name": "python3"
  },
  "language_info": {
   "codemirror_mode": {
    "name": "ipython",
    "version": 3
   },
   "file_extension": ".py",
   "mimetype": "text/x-python",
   "name": "python",
   "nbconvert_exporter": "python",
   "pygments_lexer": "ipython3",
   "version": "3.7.11"
  }
 },
 "nbformat": 4,
 "nbformat_minor": 5
}
