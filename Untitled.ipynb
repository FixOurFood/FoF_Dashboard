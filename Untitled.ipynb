{
 "cells": [
  {
   "cell_type": "code",
   "execution_count": 1,
   "metadata": {},
   "outputs": [],
   "source": [
    "import numpy as np\n",
    "import glob"
   ]
  },
  {
   "cell_type": "code",
   "execution_count": 2,
   "metadata": {},
   "outputs": [],
   "source": [
    "# data=np.load('data/food/FAOSTAT_Bovine_data.npy')\n",
    "files = glob.glob('data/food/*')"
   ]
  },
  {
   "cell_type": "code",
   "execution_count": 5,
   "metadata": {},
   "outputs": [
    {
     "name": "stdout",
     "output_type": "stream",
     "text": [
      "data/food/FAOSTAT_RapeMustardOil_data.npy\n",
      "data/food/FAOSTAT_PalmOil_data.npy\n",
      "data/food/FAOSTAT_GroundnutOil_data.npy\n",
      "data/food/FAOSTAT_FatsAnimals_data.npy\n",
      "data/food/FAOSTAT_SoyabeanOil_data.npy\n",
      "data/food/FAOSTAT_CottonseedOil_data.npy\n",
      "data/food/FAOSTAT_SugarRawEquivalent_data.npy\n",
      "data/food/FAOSTAT_CoconutOil_data.npy\n",
      "data/food/FAOSTAT_OliveOil_data.npy\n",
      "data/food/FAOSTAT_SesameseedOil_data.npy\n",
      "data/food/FAOSTAT_MaizeGermOil_data.npy\n",
      "data/food/FAOSTAT_SunflowerseedOil_data.npy\n",
      "data/food/FAOSTAT_PalmkernelOil_data.npy\n",
      "data/food/FAOSTAT_BeveragesAlcoholic_data.npy\n"
     ]
    }
   ],
   "source": [
    "# 5301 food supply\n",
    "# 10004 food supply per capita\n",
    "# 674 protein\n",
    "# 664 calories\n",
    "\n",
    "for file in files:\n",
    "    data = np.load(file)\n",
    "    try:\n",
    "        if len(data[(data[:,0] == 674)]) == 5:\n",
    "            print(file)\n",
    "    except IndexError:\n",
    "        print(file)"
   ]
  },
  {
   "cell_type": "code",
   "execution_count": null,
   "metadata": {},
   "outputs": [],
   "source": []
  }
 ],
 "metadata": {
  "kernelspec": {
   "display_name": "Python 3",
   "language": "python",
   "name": "python3"
  },
  "language_info": {
   "codemirror_mode": {
    "name": "ipython",
    "version": 3
   },
   "file_extension": ".py",
   "mimetype": "text/x-python",
   "name": "python",
   "nbconvert_exporter": "python",
   "pygments_lexer": "ipython3",
   "version": "3.7.4"
  }
 },
 "nbformat": 4,
 "nbformat_minor": 2
}
